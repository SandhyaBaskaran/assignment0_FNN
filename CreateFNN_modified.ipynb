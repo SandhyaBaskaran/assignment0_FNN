{
  "nbformat": 4,
  "nbformat_minor": 0,
  "metadata": {
    "colab": {
      "name": "CreateFNN_modified.ipynb",
      "provenance": [],
      "collapsed_sections": [],
      "authorship_tag": "ABX9TyO5H1TGv6kvys4M+OwSAifj",
      "include_colab_link": true
    },
    "kernelspec": {
      "name": "python3",
      "display_name": "Python 3"
    }
  },
  "cells": [
    {
      "cell_type": "markdown",
      "metadata": {
        "id": "view-in-github",
        "colab_type": "text"
      },
      "source": [
        "<a href=\"https://colab.research.google.com/github/SandhyaBaskaran/assignment0_FNN/blob/main/CreateFNN_modified.ipynb\" target=\"_parent\"><img src=\"https://colab.research.google.com/assets/colab-badge.svg\" alt=\"Open In Colab\"/></a>"
      ]
    },
    {
      "cell_type": "code",
      "metadata": {
        "id": "nUovwMOm9BI3"
      },
      "source": [
        "from keras.datasets import fashion_mnist\n",
        "import numpy as np\n"
      ],
      "execution_count": null,
      "outputs": []
    },
    {
      "cell_type": "code",
      "metadata": {
        "colab": {
          "base_uri": "https://localhost:8080/"
        },
        "id": "C38Qww0M9LHU",
        "outputId": "f0e79335-123c-48f3-b5a2-c137ce655f35"
      },
      "source": [
        "%%time\n",
        "fashion_data = fashion_mnist.load_data()\n",
        "##sweep pending"
      ],
      "execution_count": null,
      "outputs": [
        {
          "output_type": "stream",
          "text": [
            "Downloading data from https://storage.googleapis.com/tensorflow/tf-keras-datasets/train-labels-idx1-ubyte.gz\n",
            "32768/29515 [=================================] - 0s 0us/step\n",
            "Downloading data from https://storage.googleapis.com/tensorflow/tf-keras-datasets/train-images-idx3-ubyte.gz\n",
            "26427392/26421880 [==============================] - 0s 0us/step\n",
            "Downloading data from https://storage.googleapis.com/tensorflow/tf-keras-datasets/t10k-labels-idx1-ubyte.gz\n",
            "8192/5148 [===============================================] - 0s 0us/step\n",
            "Downloading data from https://storage.googleapis.com/tensorflow/tf-keras-datasets/t10k-images-idx3-ubyte.gz\n",
            "4423680/4422102 [==============================] - 0s 0us/step\n",
            "CPU times: user 506 ms, sys: 166 ms, total: 672 ms\n",
            "Wall time: 761 ms\n"
          ],
          "name": "stdout"
        }
      ]
    },
    {
      "cell_type": "code",
      "metadata": {
        "id": "b85dOpqTUyDw"
      },
      "source": [
        "import pandas as pd\n",
        "pd_df = pd.DataFrame(fashion_data)\n",
        "(train_data_x, train_data_y), (test_data_x, test_data_y) = fashion_mnist.load_data()"
      ],
      "execution_count": null,
      "outputs": []
    },
    {
      "cell_type": "code",
      "metadata": {
        "id": "nceZaAVrzG7X"
      },
      "source": [
        "\n",
        "def  one_hot_encode(y,length):\n",
        "    a = []\n",
        "    for i in range(0,length):\n",
        "        if y==i:\n",
        "            a.append(1)\n",
        "        else:\n",
        "            a.append(0)\n",
        "    return a\n",
        "    "
      ],
      "execution_count": null,
      "outputs": []
    },
    {
      "cell_type": "code",
      "metadata": {
        "id": "XdgCUc5mgOes"
      },
      "source": [
        "##Getting one sample per class\n",
        "indices={}\n",
        "count=0\n",
        "for y in train_data_y:\n",
        "    \n",
        "    if y not in indices.keys():\n",
        "      indices[y]=count\n",
        "    count = count + 1\n",
        "    if len(indices.keys())==10:\n",
        "      break\n"
      ],
      "execution_count": null,
      "outputs": []
    },
    {
      "cell_type": "code",
      "metadata": {
        "colab": {
          "base_uri": "https://localhost:8080/"
        },
        "id": "cFSZ7BEIkM9G",
        "outputId": "4d3038c4-3e34-4b3a-8781-3dad315352db"
      },
      "source": [
        "indices"
      ],
      "execution_count": null,
      "outputs": [
        {
          "output_type": "execute_result",
          "data": {
            "text/plain": [
              "{0: 1, 1: 16, 2: 5, 3: 3, 4: 19, 5: 8, 6: 18, 7: 6, 8: 23, 9: 0}"
            ]
          },
          "metadata": {
            "tags": []
          },
          "execution_count": 7
        }
      ]
    },
    {
      "cell_type": "code",
      "metadata": {
        "colab": {
          "base_uri": "https://localhost:8080/",
          "height": 227
        },
        "id": "rBU8kEezq82H",
        "outputId": "24e1dec3-33ab-41e1-dbab-6dfc8cca1771"
      },
      "source": [
        "import matplotlib\n",
        "import matplotlib.pyplot as plt\n",
        "from matplotlib.pyplot import imshow\n",
        "import matplotlib.gridspec as gridspec\n",
        "fig = plt.figure()\n",
        "row=0\n",
        "col=0\n",
        "plot = gridspec.GridSpec(2,5)\n",
        "for every_class in indices:\n",
        "\n",
        "  fig.add_subplot(plot[row,col])\n",
        "  matplotlib.pyplot.imshow(train_data_x[every_class])\n",
        "  col=col+1\n",
        "  if col==5:\n",
        "    col=0\n",
        "    row=1\n"
      ],
      "execution_count": null,
      "outputs": [
        {
          "output_type": "display_data",
          "data": {
            "image/png": "[encoded data removed]",
            "text/plain": [
              "<Figure size 432x288 with 10 Axes>"
            ]
          },
          "metadata": {
            "tags": [],
            "needs_background": "light"
          }
        }
      ]
    },
    {
      "cell_type": "code",
      "metadata": {
        "id": "gmpbiynkJgl2"
      },
      "source": [
        "import math\n",
        "\n",
        "def activation_fn(z):\n",
        "    #sigmoid activation function\n",
        "    return (1/(1+np.exp(-z)))  \n"
      ],
      "execution_count": null,
      "outputs": []
    },
    {
      "cell_type": "code",
      "metadata": {
        "id": "lf8e4nAxidw-"
      },
      "source": [
        "def softmax(x):\n",
        "    return (np.exp(x)/np.exp(x).sum())"
      ],
      "execution_count": null,
      "outputs": []
    },
    {
      "cell_type": "code",
      "metadata": {
        "id": "4q5Shps1SiWp"
      },
      "source": [
        "def pd_lossFn(y_hat,y): ##cross entropy\n",
        "    L = loss_Fn(y,x)\n",
        "    return -(L/y_hat)\n"
      ],
      "execution_count": null,
      "outputs": []
    },
    {
      "cell_type": "code",
      "metadata": {
        "id": "3qSoIqaB2bmg"
      },
      "source": [
        "def pd_cross_entropy(x,y):\n",
        "    return x - y\n"
      ],
      "execution_count": null,
      "outputs": []
    },
    {
      "cell_type": "code",
      "metadata": {
        "id": "W092xJ4-OfFZ"
      },
      "source": [
        "def pd_activation(x):\n",
        "    return (x * (1-x))"
      ],
      "execution_count": null,
      "outputs": []
    },
    {
      "cell_type": "code",
      "metadata": {
        "id": "ObUV3yeQx0WZ"
      },
      "source": [
        "def loss_Fn(y,y_hat):\n",
        "    l = - (np.dot(y,np.array([math.log(x) for x in y_hat]))) ##cross entropy\n",
        "    return l\n",
        "    \n"
      ],
      "execution_count": null,
      "outputs": []
    },
    {
      "cell_type": "code",
      "metadata": {
        "id": "XJgoeiF82lwr"
      },
      "source": [
        "def grad_calculation(x,y,output):\n",
        "    dw,db = 0,0\n",
        "    print(output)\n",
        "    dw = grad_w(x,y,output)\n",
        "    db = grad_b(x,y,output)\n",
        "\n",
        "    return dw,db\n",
        "\n"
      ],
      "execution_count": 249,
      "outputs": []
    },
    {
      "cell_type": "code",
      "metadata": {
        "id": "5zj6XhxU8a2A"
      },
      "source": [
        "def calculate_net(w,x,b): ## preactivation\n",
        "    a  = np.dot(x,w) + b\n",
        "    return a"
      ],
      "execution_count": null,
      "outputs": []
    },
    {
      "cell_type": "markdown",
      "metadata": {
        "id": "eOLkrxSY2kYZ"
      },
      "source": [
        ""
      ]
    },
    {
      "cell_type": "code",
      "metadata": {
        "id": "LUf95Ho6sigT"
      },
      "source": [
        "def fnn(train_data_x,train_data_y, input_weights,input_bias,layer_weights,bias_weights, output_weights,output_bias, classes = 10 ):\n",
        "      a_net = []\n",
        "      bias = input_bias + bias_weights\n",
        "      \n",
        "\n",
        "      for x,y in zip(train_data_x,train_data_y):\n",
        "          x = x.astype('float128').flatten()/255.0\n",
        "          y = one_hot_encode(y,10)\n",
        "\n",
        "          x = calculate_net(input_weights,x,input_bias)\n",
        "          h  = x/max(x)\n",
        "          #a_net.append(x)\n",
        "          for i in range(0,len(layer_weights)):\n",
        "              h =  calculate_net(layer_weights[i],h,bias_weights[i])\n",
        "              h = h/max(h)\n",
        "              a_net.append(h)\n",
        "          O = calculate_net(output_weights,h,output_bias)\n",
        "          pd_loss = pd_cross_entropy(softmax(O),y)\n",
        "\n",
        "\n",
        "          ##backpropogate\n",
        "          (dw_output,db_output) = grad_calculation(O,y,True)\n",
        "\n",
        "          for i in range(1,len(layer_weights)+1):\n",
        "              \n",
        "              (dw,db) = grad_calculation(a_net[-i],y,False)\n",
        "              \n",
        "              \n",
        "          break\n"
      ],
      "execution_count": 267,
      "outputs": []
    },
    {
      "cell_type": "code",
      "metadata": {
        "id": "Z16BT6BWkSmm"
      },
      "source": [
        "def grad_w(x,y,output):\n",
        "    if not output:\n",
        "        fx = activation_fn(x)\n",
        "    else:\n",
        "        fx = softmax(x)\n",
        "    return np.multiply(pd_activation(fx),x)\n",
        "\n"
      ],
      "execution_count": 264,
      "outputs": []
    },
    {
      "cell_type": "code",
      "metadata": {
        "id": "E5ip2W6DyaRr"
      },
      "source": [
        "def grad_b(x,y,output):\n",
        "    if not output:\n",
        "        fx = activation_fn(x)\n",
        "    else:\n",
        "        fx = softmax(x)\n",
        "    return pd_activation(fx)"
      ],
      "execution_count": 252,
      "outputs": []
    },
    {
      "cell_type": "code",
      "metadata": {
        "id": "YtI1zrFybg28",
        "colab": {
          "base_uri": "https://localhost:8080/"
        },
        "outputId": "c364d947-36dd-4f10-8478-ec2ad336c0c7"
      },
      "source": [
        "%%time\n",
        "hidden_layer_size = 3\n",
        "hidden_nodes = 9\n",
        "classes = 10\n",
        "input_size = len(train_data_x.astype('float128')[0].flatten()/255.0)\n",
        "input_weights = np.random.uniform(0,1,size = (input_size,hidden_nodes ))\n",
        "input_bias = np.random.uniform(0,1,size = (hidden_nodes ))\n",
        "layer_initial_weights = np.random.uniform(0,1,size=  (hidden_layer_size, hidden_nodes))\n",
        "layer_bias_weights = np.random.uniform(0,1,size = (hidden_layer_size,hidden_nodes ))\n",
        "output_initial_weights = np.random.uniform(0,1,size = (hidden_nodes, classes))\n",
        "output_bias_weights = np.random.uniform(0,1,size = classes)\n",
        "fnn(train_data_x,train_data_y, input_weights,input_bias, layer_initial_weights,layer_bias_weights, output_initial_weights,output_bias_weights)"
      ],
      "execution_count": 268,
      "outputs": [
        {
          "output_type": "stream",
          "text": [
            "True\n",
            "False\n",
            "False\n",
            "False\n",
            "CPU times: user 146 ms, sys: 0 ns, total: 146 ms\n",
            "Wall time: 149 ms\n"
          ],
          "name": "stdout"
        }
      ]
    },
    {
      "cell_type": "code",
      "metadata": {
        "id": "ZHFEvZFMO8pQ"
      },
      "source": [
        "np.dot(train_data_x.astype('float128')[0].flatten()/255.0,layer_initial_weights.T)"
      ],
      "execution_count": null,
      "outputs": []
    },
    {
      "cell_type": "code",
      "metadata": {
        "id": "l_h8loyx4-n-"
      },
      "source": [
        "layer_initial_weights = np.random.uniform(0,1,size= input_size * hidden_layer_size * hidden_nodes)\n"
      ],
      "execution_count": null,
      "outputs": []
    },
    {
      "cell_type": "code",
      "metadata": {
        "id": "hysDSE-KKdSh"
      },
      "source": [
        ""
      ],
      "execution_count": null,
      "outputs": []
    },
    {
      "cell_type": "code",
      "metadata": {
        "id": "qj61P4KLgf5N"
      },
      "source": [
        "%%time\n",
        "u_l,l_b,loss = fnn(x,y,u_l,l_b)\n"
      ],
      "execution_count": null,
      "outputs": []
    },
    {
      "cell_type": "code",
      "metadata": {
        "id": "ocmPW6SUeZZO"
      },
      "source": [
        "def gradient_descent(trainx,trainy,weights,bias):\n",
        "    for x,y in zip(trainx,trainy):\n",
        "        u_l,l_b,loss = fnn(x,y,weights,bias)\n",
        "    return loss\n",
        "        "
      ],
      "execution_count": null,
      "outputs": []
    },
    {
      "cell_type": "code",
      "metadata": {
        "id": "5ceqlFL0_0ZK"
      },
      "source": [
        "learning_rate = 1e-3"
      ],
      "execution_count": null,
      "outputs": []
    },
    {
      "cell_type": "code",
      "metadata": {
        "id": "nEftbQ5g8nC7"
      },
      "source": [
        "%%time\n",
        "gradient_descent(train_data_x,train_data_y,u_l,l_b)"
      ],
      "execution_count": null,
      "outputs": []
    },
    {
      "cell_type": "code",
      "metadata": {
        "id": "m6MK53-Z7yfL"
      },
      "source": [
        "def stochastic_gd(x,y):\n",
        "    for i in "
      ],
      "execution_count": null,
      "outputs": []
    },
    {
      "cell_type": "code",
      "metadata": {
        "id": "hyWJpfOi75V5"
      },
      "source": [
        "x = [1,2,3,4,5]\n",
        "y = [0.1,2,3,4]\n",
        "for i,j in zip(x,y):  \n",
        "    print(i,j)\n"
      ],
      "execution_count": null,
      "outputs": []
    },
    {
      "cell_type": "markdown",
      "metadata": {
        "id": "azO-3_6cyOmL"
      },
      "source": [
        ""
      ]
    }
  ]
}